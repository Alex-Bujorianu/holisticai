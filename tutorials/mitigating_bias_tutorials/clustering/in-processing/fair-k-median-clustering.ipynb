{
 "cells": [
  {
   "cell_type": "code",
   "execution_count": null,
   "metadata": {},
   "outputs": [],
   "source": []
  }
 ],
 "metadata": {
  "kernelspec": {
   "display_name": "Python 3",
   "language": "python",
   "name": "python3"
  },
  "language_info": {
   "name": "python",
   "version": "3.10.8"
  },
  "orig_nbformat": 4,
  "vscode": {
   "interpreter": {
    "hash": "df97ef74b6c29d87bf54fb50d14f0c83b1deb2b823073723eb7a24f45f622317"
   }
  }
 },
 "nbformat": 4,
 "nbformat_minor": 2
}
