{
 "cells": [
  {
   "attachments": {},
   "cell_type": "markdown",
   "metadata": {},
   "source": [
    "### Mitigating Bias Using *Exponential Gradient Reduction*"
   ]
  },
  {
   "cell_type": "code",
   "execution_count": 2,
   "metadata": {},
   "outputs": [
    {
     "ename": "ImportError",
     "evalue": "cannot import name 'Reweighing' from 'holisticai.bias' (C:\\Users\\kleyt\\AppData\\Roaming\\Python\\Python310\\site-packages\\holisticai\\bias\\__init__.py)",
     "output_type": "error",
     "traceback": [
      "\u001b[1;31m---------------------------------------------------------------------------\u001b[0m",
      "\u001b[1;31mImportError\u001b[0m                               Traceback (most recent call last)",
      "\u001b[1;32mc:\\Users\\kleyt\\OneDrive\\Documentos\\GitHub\\holistic-ai\\holisticai\\tutorials\\mitigating_bias_tutorials\\binary-classification\\in-processing\\exponential-gradient-reduction.ipynb Cell 1\u001b[0m in \u001b[0;36m<module>\u001b[1;34m\u001b[0m\n\u001b[0;32m      <a href='vscode-notebook-cell:/c%3A/Users/kleyt/OneDrive/Documentos/GitHub/holistic-ai/holisticai/tutorials/mitigating_bias_tutorials/binary-classification/in-processing/exponential-gradient-reduction.ipynb#W0sZmlsZQ%3D%3D?line=0'>1</a>\u001b[0m \u001b[39mfrom\u001b[39;00m \u001b[39mholisticai\u001b[39;00m\u001b[39m.\u001b[39;00m\u001b[39mdatasets\u001b[39;00m \u001b[39mimport\u001b[39;00m load_adult\n\u001b[1;32m----> <a href='vscode-notebook-cell:/c%3A/Users/kleyt/OneDrive/Documentos/GitHub/holistic-ai/holisticai/tutorials/mitigating_bias_tutorials/binary-classification/in-processing/exponential-gradient-reduction.ipynb#W0sZmlsZQ%3D%3D?line=1'>2</a>\u001b[0m \u001b[39mfrom\u001b[39;00m \u001b[39mholisticai\u001b[39;00m\u001b[39m.\u001b[39;00m\u001b[39mbias\u001b[39;00m \u001b[39mimport\u001b[39;00m Reweighing\n",
      "\u001b[1;31mImportError\u001b[0m: cannot import name 'Reweighing' from 'holisticai.bias' (C:\\Users\\kleyt\\AppData\\Roaming\\Python\\Python310\\site-packages\\holisticai\\bias\\__init__.py)"
     ]
    }
   ],
   "source": [
    "from holisticai.datasets import load_adult\n",
    "from holisticai.bias.mitigation import Reweighing"
   ]
  }
 ],
 "metadata": {
  "kernelspec": {
   "display_name": "Python 3",
   "language": "python",
   "name": "python3"
  },
  "language_info": {
   "codemirror_mode": {
    "name": "ipython",
    "version": 3
   },
   "file_extension": ".py",
   "mimetype": "text/x-python",
   "name": "python",
   "nbconvert_exporter": "python",
   "pygments_lexer": "ipython3",
   "version": "3.10.8"
  },
  "orig_nbformat": 4,
  "vscode": {
   "interpreter": {
    "hash": "df97ef74b6c29d87bf54fb50d14f0c83b1deb2b823073723eb7a24f45f622317"
   }
  }
 },
 "nbformat": 4,
 "nbformat_minor": 2
}
